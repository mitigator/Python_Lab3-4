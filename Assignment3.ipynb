{
 "cells": [
  {
   "cell_type": "markdown",
   "metadata": {},
   "source": [
    "1. Write a function in Python with a string such that it accepts a parameter- “stringsplit”. This encoded string will contain your name, domain name and register number. You can separate the values in the string by any number of underscores. [The string should not contain any other underscore symbols in your name, domain name and register number]. The function should return a Python dictionary with your name, domain name and register number.\n",
    "For example, if the input would be \" Aaron___Googleplaystore____2347201”. Then the function should return the output as follows:\n",
    "{ \"name\": \" Aaron \",\n",
    "\"Domain_name\": \" Googleplaystore \",\n",
    "\"Regno\": \"2347201\" }\n"
   ]
  },
  {
   "cell_type": "code",
   "execution_count": 7,
   "metadata": {},
   "outputs": [
    {
     "name": "stdout",
     "output_type": "stream",
     "text": [
      "{'name': 'Mishra', 'Domain_name': 'DocumentManagementSystem', 'Regno': '2347256'}\n"
     ]
    }
   ],
   "source": [
    "def decode(stringsplit):\n",
    "    str = stringsplit.split('_')\n",
    "    str = [str.strip() for str in str if str.strip()]            \n",
    "    dict = {\n",
    "        \"name\": str[0],\n",
    "        \"Domain_name\": str[1],\n",
    "        \"Regno\": str[2]\n",
    "    }    \n",
    "    return dict\n",
    "encode= \"Shubham___DocumentManagementSystem____2347256\"\n",
    "dict = decode(encode)\n",
    "print(dict)\n"
   ]
  },
  {
   "cell_type": "markdown",
   "metadata": {},
   "source": [
    "2. Write a Python program to implement the object-oriented concepts of multiple, Multilevel and Hierarchical Inheritances using your domain applications."
   ]
  },
  {
   "cell_type": "code",
   "execution_count": 9,
   "metadata": {},
   "outputs": [
    {
     "name": "stdout",
     "output_type": "stream",
     "text": [
      "Admin\n",
      "Username: admin_user, Role: Admin\n",
      "admin_user is managing documents.\n",
      "Editor\n",
      "Username: editor_user, Role: Editor\n",
      "editor_user is viewing documents.\n",
      "editor_user is editing documents.\n",
      "Viewer\n",
      "Username: viewer_user, Role: Viewer\n",
      "viewer_user is viewing documents.\n",
      "viewer_user can only view documents.\n"
     ]
    }
   ],
   "source": [
    "# defining User Parent Class\n",
    "class User:\n",
    "    def __init__(self, username, role):\n",
    "        self.username = username\n",
    "        self.role = role\n",
    "    def display_info(self):\n",
    "        print(f\"Username: {self.username}, Role: {self.role}\")\n",
    "#Defining Different Roles for the User\n",
    "class Admin(User):\n",
    "    def __init__(self, username):\n",
    "        super().__init__(username, \"Admin\")\n",
    "\n",
    "    def manage_documents(self):\n",
    "        print(f\"{self.username} is managing documents.\")\n",
    "\n",
    "\n",
    "class RegularUser(User):\n",
    "    def __init__(self, username):\n",
    "        super().__init__(username, \"Regular User\")\n",
    "\n",
    "    def view_documents(self):\n",
    "        print(f\"{self.username} is viewing documents.\")\n",
    "\n",
    "\n",
    "class Editor(RegularUser):\n",
    "    def __init__(self, username):\n",
    "        super().__init__(username)\n",
    "        self.role = \"Editor\"\n",
    "\n",
    "    def edit_documents(self):\n",
    "        print(f\"{self.username} is editing documents.\")\n",
    "\n",
    "\n",
    "class Viewer(RegularUser):\n",
    "    def __init__(self, username):\n",
    "        super().__init__(username)\n",
    "        self.role = \"Viewer\"\n",
    "\n",
    "    def view_only(self):\n",
    "        print(f\"{self.username} can only view documents.\")\n",
    "\n",
    "\n",
    "# Createing instances and demonstrateing the relationships\n",
    "admin = Admin(\"admin_user\")\n",
    "editor = Editor(\"editor_user\")\n",
    "viewer = Viewer(\"viewer_user\")\n",
    "\n",
    "print(\"Admin\")\n",
    "admin.display_info()\n",
    "admin.manage_documents()\n",
    "\n",
    "print(\"Editor\")\n",
    "editor.display_info()\n",
    "editor.view_documents()\n",
    "editor.edit_documents()\n",
    "\n",
    "print(\"Viewer\")\n",
    "viewer.display_info()\n",
    "viewer.view_documents()\n",
    "viewer.view_only()\n"
   ]
  }
 ],
 "metadata": {
  "kernelspec": {
   "display_name": "Python 3",
   "language": "python",
   "name": "python3"
  },
  "language_info": {
   "codemirror_mode": {
    "name": "ipython",
    "version": 3
   },
   "file_extension": ".py",
   "mimetype": "text/x-python",
   "name": "python",
   "nbconvert_exporter": "python",
   "pygments_lexer": "ipython3",
   "version": "3.11.1"
  },
  "orig_nbformat": 4
 },
 "nbformat": 4,
 "nbformat_minor": 2
}
